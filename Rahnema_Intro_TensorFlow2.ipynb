{
  "nbformat": 4,
  "nbformat_minor": 0,
  "metadata": {
    "colab": {
      "provenance": [],
      "authorship_tag": "ABX9TyOg3m4YKUqeerUgq4IIYcFe",
      "include_colab_link": true
    },
    "kernelspec": {
      "name": "python3",
      "display_name": "Python 3"
    },
    "language_info": {
      "name": "python"
    }
  },
  "cells": [
    {
      "cell_type": "markdown",
      "metadata": {
        "id": "view-in-github",
        "colab_type": "text"
      },
      "source": [
        "<a href=\"https://colab.research.google.com/github/elikaaghaei/Rahnema_college/blob/main/Rahnema_Intro_TensorFlow2.ipynb\" target=\"_parent\"><img src=\"https://colab.research.google.com/assets/colab-badge.svg\" alt=\"Open In Colab\"/></a>"
      ]
    },
    {
      "cell_type": "markdown",
      "source": [
        "# **Import part**"
      ],
      "metadata": {
        "id": "xmhGJbO-LvWb"
      }
    },
    {
      "cell_type": "code",
      "source": [
        "import tensorflow as tf\n",
        "import numpy as np\n",
        "import matplotlib.pyplot as plt"
      ],
      "metadata": {
        "id": "P9rpjVz4L4fa"
      },
      "execution_count": null,
      "outputs": []
    },
    {
      "cell_type": "code",
      "source": [
        "print(tf.__version__)"
      ],
      "metadata": {
        "colab": {
          "base_uri": "https://localhost:8080/"
        },
        "id": "Y4vBiuUGM1CX",
        "outputId": "44f5ee65-79da-493d-fd50-6a18a2611e4c"
      },
      "execution_count": null,
      "outputs": [
        {
          "output_type": "stream",
          "name": "stdout",
          "text": [
            "2.19.0\n"
          ]
        }
      ]
    },
    {
      "cell_type": "markdown",
      "source": [
        "## Create Noisy Dataset"
      ],
      "metadata": {
        "id": "xjpXjtNINWwT"
      }
    },
    {
      "cell_type": "code",
      "source": [
        "def make_noisy_data(m=0.1, b=0.3 ,n=100):\n",
        "  x= tf.random.uniform(shape=(n,))\n",
        "  noise = tf.random.normal(shape = (len(x), ), stddev=0.01)\n",
        "  y =m *x+b +noise\n",
        "  return x,y"
      ],
      "metadata": {
        "id": "e2GfIsWINVNs"
      },
      "execution_count": null,
      "outputs": []
    },
    {
      "cell_type": "code",
      "source": [
        "x_train, y_train = make_noisy_data()\n",
        "\n",
        "plt.plot(x_train, y_train, 'b.')"
      ],
      "metadata": {
        "colab": {
          "base_uri": "https://localhost:8080/",
          "height": 447
        },
        "id": "wnPQxCOSO6Dw",
        "outputId": "43df38bd-9fd4-4eaa-fdea-e7f2d10f35e2"
      },
      "execution_count": null,
      "outputs": [
        {
          "output_type": "execute_result",
          "data": {
            "text/plain": [
              "[<matplotlib.lines.Line2D at 0x7eed603b6120>]"
            ]
          },
          "metadata": {},
          "execution_count": 8
        },
        {
          "output_type": "display_data",
          "data": {
            "text/plain": [
              "<Figure size 640x480 with 1 Axes>"
            ],
            "image/png": "[encoded data removed]"
          },
          "metadata": {}
        }
      ]
    },
    {
      "cell_type": "markdown",
      "source": [
        "### Define variables of the model"
      ],
      "metadata": {
        "id": "TI3HoNkrPQTx"
      }
    },
    {
      "cell_type": "code",
      "source": [
        "m = tf.Variable(0.)\n",
        "b = tf.Variable(0.)"
      ],
      "metadata": {
        "id": "fLqGb7KnPO-W"
      },
      "execution_count": null,
      "outputs": []
    },
    {
      "cell_type": "markdown",
      "source": [
        "### Predict y given x"
      ],
      "metadata": {
        "id": "K_sxndfsPrZy"
      }
    },
    {
      "cell_type": "code",
      "source": [
        "def predict(x):\n",
        "  y = m*x + b\n",
        "  return y"
      ],
      "metadata": {
        "id": "_Gdj9vjqPomf"
      },
      "execution_count": null,
      "outputs": []
    },
    {
      "cell_type": "markdown",
      "source": [
        "### Loss Function"
      ],
      "metadata": {
        "id": "y63YUpeLQDYi"
      }
    },
    {
      "cell_type": "code",
      "source": [
        "def squared_error(y_pred, y_true):\n",
        "  return tf.reduce_mean(tf.square(y_pred-y_true))"
      ],
      "metadata": {
        "id": "VvmpGnZXQG4z"
      },
      "execution_count": null,
      "outputs": []
    },
    {
      "cell_type": "markdown",
      "source": [
        "## Calculate loss before training"
      ],
      "metadata": {
        "id": "bLKtCrbTQcpq"
      }
    },
    {
      "cell_type": "code",
      "source": [
        "loss = squared_error(predict(x_train),y_train)\n",
        "print(loss.numpy())"
      ],
      "metadata": {
        "colab": {
          "base_uri": "https://localhost:8080/"
        },
        "id": "688awbMoQf2r",
        "outputId": "40564cec-9398-43fb-8329-74e001620a44"
      },
      "execution_count": null,
      "outputs": [
        {
          "output_type": "stream",
          "name": "stdout",
          "text": [
            "0.12351723\n"
          ]
        }
      ]
    },
    {
      "cell_type": "markdown",
      "source": [
        "## Use Gradient Descent"
      ],
      "metadata": {
        "id": "YdXQL8AOQtkM"
      }
    },
    {
      "cell_type": "code",
      "source": [
        "learning_rate = 0.05\n",
        "steps = 200\n",
        "for i in range(steps):\n",
        "  with tf.GradientTape() as tape: #with tf.GradientTape(watch_accessed_variables = False) as tape:\n",
        "    predictions = predict (x_train) #tape.watch([m,b])\n",
        "    loss = squared_error(predictions, y_train)\n",
        "  gradients = tape.gradient(loss,[m,b])\n",
        "\n",
        "  m.assign_sub(gradients[0]*learning_rate)\n",
        "  b.assign_sub(gradients[1]*learning_rate)\n",
        "\n",
        "  if i%20 ==0:\n",
        "    print(\"Step{0}: Loss{1}\".format(i,loss))"
      ],
      "metadata": {
        "colab": {
          "base_uri": "https://localhost:8080/"
        },
        "id": "9Dx6uYhDQssT",
        "outputId": "4b6faf58-5626-462b-c43a-5f21324f25f4"
      },
      "execution_count": null,
      "outputs": [
        {
          "output_type": "stream",
          "name": "stdout",
          "text": [
            "Step0: Loss0.1235172301530838\n",
            "Step20: Loss0.0007556086056865752\n",
            "Step40: Loss0.00017726006626617163\n",
            "Step60: Loss0.00015615714073646814\n",
            "Step80: Loss0.0001418407482560724\n",
            "Step100: Loss0.00013083964586257935\n",
            "Step120: Loss0.00012237936607562006\n",
            "Step140: Loss0.0001158730810857378\n",
            "Step160: Loss0.00011086955055361614\n",
            "Step180: Loss0.00010702158033382148\n"
          ]
        }
      ]
    },
    {
      "cell_type": "markdown",
      "source": [
        "## Final Learnrd Values of m & b"
      ],
      "metadata": {
        "id": "lTjJQi6pTT78"
      }
    },
    {
      "cell_type": "code",
      "source": [
        "print(\"Best Parameters Values: m= %f and b=%f\" %(m.numpy(), b.numpy()))"
      ],
      "metadata": {
        "colab": {
          "base_uri": "https://localhost:8080/"
        },
        "id": "frUtSFsWTR1S",
        "outputId": "6c4a6cff-e431-45e9-b7e9-48a278c447ac"
      },
      "execution_count": null,
      "outputs": [
        {
          "output_type": "stream",
          "name": "stdout",
          "text": [
            "Best Parameters Values: m= 0.116940 and b=0.291648\n"
          ]
        }
      ]
    },
    {
      "cell_type": "markdown",
      "source": [
        "### Plot Best Line"
      ],
      "metadata": {
        "id": "zrMD0eC3Tq4n"
      }
    },
    {
      "cell_type": "code",
      "source": [
        "plt.plot(x_train, y_train , 'r.')\n",
        "plt.plot(x_train, predict(x_train), 'g.')"
      ],
      "metadata": {
        "colab": {
          "base_uri": "https://localhost:8080/",
          "height": 447
        },
        "id": "9-lt0ELWTtN_",
        "outputId": "720fb09b-a648-400b-cd04-66b609c991eb"
      },
      "execution_count": null,
      "outputs": [
        {
          "output_type": "execute_result",
          "data": {
            "text/plain": [
              "[<matplotlib.lines.Line2D at 0x7eed5ffe4800>]"
            ]
          },
          "metadata": {},
          "execution_count": 22
        },
        {
          "output_type": "display_data",
          "data": {
            "text/plain": [
              "<Figure size 640x480 with 1 Axes>"
            ],
            "image/png": "[encoded data removed]"
          },
          "metadata": {}
        }
      ]
    }
  ]
}